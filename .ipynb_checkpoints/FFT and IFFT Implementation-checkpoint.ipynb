{
 "cells": [
  {
   "cell_type": "markdown",
   "metadata": {},
   "source": [
    "# Implementation of FFT and IFFT"
   ]
  },
  {
   "cell_type": "markdown",
   "metadata": {},
   "source": [
    "### Libraries"
   ]
  },
  {
   "cell_type": "code",
   "execution_count": 24,
   "metadata": {},
   "outputs": [],
   "source": [
    "import cmath\n",
    "import numpy as np\n",
    "from math import log, ceil\n",
    "import pylab as plt"
   ]
  },
  {
   "cell_type": "markdown",
   "metadata": {},
   "source": [
    "### Utils"
   ]
  },
  {
   "cell_type": "code",
   "execution_count": 25,
   "metadata": {},
   "outputs": [],
   "source": [
    "def omega(p, q):\n",
    "    ''' The omega term in DFT and IDFT formulas'''\n",
    "    return cmath.exp((2.0 * cmath.pi * 1j * q) / p)\n",
    "\n",
    "def pad(lst):\n",
    "    '''padding the list to next nearest power of 2 as FFT implemented is radix 2'''\n",
    "    k = 0\n",
    "    while 2**k < len(lst):\n",
    "        k += 1\n",
    "    return np.concatenate((lst, ([0] * (2 ** k - len(lst)))))\n",
    "\n",
    "def pad2(x):\n",
    "    m, n = np.shape(x)\n",
    "    M, N = 2 ** int(ceil(log(m, 2))), 2 ** int(ceil(log(n, 2)))\n",
    "    F = np.zeros((M,N), dtype = x.dtype)\n",
    "    F[0:m, 0:n] = x\n",
    "    return F, m, n"
   ]
  },
  {
   "cell_type": "markdown",
   "metadata": {},
   "source": [
    "## FFT"
   ]
  },
  {
   "cell_type": "code",
   "execution_count": 33,
   "metadata": {},
   "outputs": [],
   "source": [
    "## FFT - 1D\n",
    "def fft(x):\n",
    "    ''' FFT of 1-d signals\n",
    "    usage : X = fft(x)\n",
    "    where input x = list containing sequences of a discrete time signals\n",
    "    and output X = dft of x '''\n",
    "\n",
    "    n = len(x)\n",
    "    if n == 1:\n",
    "        return x\n",
    "    Feven, Fodd = fft(x[0::2]), fft(x[1::2])\n",
    "    combined = [0] * n\n",
    "    for m in range(n/2):\n",
    "        combined[m] = Feven[m] + omega(n, -m) * Fodd[m]\n",
    "        combined[m + n/2] = Feven[m] - omega(n, -m) * Fodd[m]\n",
    "    return combined"
   ]
  },
  {
   "cell_type": "code",
   "execution_count": 34,
   "metadata": {},
   "outputs": [],
   "source": [
    "## FFT - 2D\n",
    "def fft2(f):\n",
    "    '''FFT of 2-d signals/images with padding\n",
    "    usage X, m, n = fft2(x), where m and n are dimensions of original signal'''\n",
    "\n",
    "    f, m, n = pad2(f)\n",
    "    return np.transpose(fft(np.transpose(fft(f)))), m, n\n",
    "\n",
    "def ifft2(F, m, n):\n",
    "    ''' IFFT of 2-d signals\n",
    "    usage x = ifft2(X, m, n) with unpaded, \n",
    "    where m and n are odimensions of original signal before padding'''\n",
    "\n",
    "    f, M, N = fft2(np.conj(F))\n",
    "    f = np.matrix(np.real(np.conj(f)))/(M*N)\n",
    "    return f[0:m, 0:n]\n"
   ]
  },
  {
   "cell_type": "markdown",
   "metadata": {},
   "source": [
    "## IFFT"
   ]
  },
  {
   "cell_type": "code",
   "execution_count": 35,
   "metadata": {},
   "outputs": [],
   "source": [
    "## ifft - 1D\n",
    "def ifft(X):\n",
    "    ''' IFFT of 1-d signals\n",
    "    usage x = ifft(X) \n",
    "    unpadding must be done implicitly'''\n",
    "\n",
    "    x = fft([x.conjugate() for x in X])\n",
    "    return [x.conjugate()/len(X) for x in x]"
   ]
  },
  {
   "cell_type": "code",
   "execution_count": 36,
   "metadata": {},
   "outputs": [],
   "source": [
    "## ifft - 2D\n",
    "def ifft2(F, m, n):\n",
    "    ''' IFFT of 2-d signals\n",
    "    usage x = ifft2(X, m, n) with unpaded, \n",
    "    where m and n are odimensions of original signal before padding'''\n",
    "\n",
    "    f, M, N = fft2(np.conj(F))\n",
    "    f = np.matrix(np.real(np.conj(f)))/(M*N)\n",
    "    return f[0:m, 0:n]"
   ]
  },
  {
   "cell_type": "markdown",
   "metadata": {},
   "source": [
    "### FFT shift"
   ]
  },
  {
   "cell_type": "code",
   "execution_count": 37,
   "metadata": {},
   "outputs": [],
   "source": [
    "def fftshift(F):\n",
    "    ''' this shifts the centre of FFT of images/2-d signals'''\n",
    "    M, N = F.shape\n",
    "    R1, R2 = F[0: M/2, 0: N/2], F[M/2: M, 0: N/2]\n",
    "    R3, R4 = F[0: M/2, N/2: N], F[M/2: M, N/2: N]\n",
    "    sF = np.zeros(F.shape,dtype = F.dtype)\n",
    "    sF[M/2: M, N/2: N], sF[0: M/2, 0: N/2] = R1, R4\n",
    "    sF[M/2: M, 0: N/2], sF[0: M/2, N/2: N]= R3, R2\n",
    "    return sF"
   ]
  },
  {
   "cell_type": "code",
   "execution_count": 43,
   "metadata": {},
   "outputs": [],
   "source": [
    "import numpy as np\n",
    "\n",
    "\n",
    "def DFT_1D(fx):\n",
    "    fx = np.asarray(fx, dtype=complex)\n",
    "    M = fx.shape[0]\n",
    "    fu = fx.copy()\n",
    "\n",
    "    for i in range(M):\n",
    "        u = i\n",
    "        sum = 0\n",
    "        for j in range(M):\n",
    "            x = j\n",
    "            tmp = fx[x]*np.exp(-2j*np.pi*x*u*np.divide(1, M, dtype=complex))\n",
    "            sum += tmp\n",
    "        # print(sum)\n",
    "        fu[u] = sum\n",
    "    # print(fu)\n",
    "\n",
    "    return fu\n",
    "\n",
    "\n",
    "def inverseDFT_1D(fu):\n",
    "    fu = np.asarray(fu, dtype=complex)\n",
    "    M = fu.shape[0]\n",
    "    fx = np.zeros(M, dtype=complex)\n",
    "\n",
    "    for i in range(M):\n",
    "        x = i\n",
    "        sum = 0\n",
    "        for j in range(M):\n",
    "            u = j\n",
    "            tmp = fu[u]*np.exp(2j*np.pi*x*u*np.divide(1, M, dtype=complex))\n",
    "            sum += tmp\n",
    "        fx[x] = np.divide(sum, M, dtype=complex)\n",
    "\n",
    "    return fx\n",
    "\n",
    "\n",
    "def FFT_1D(fx):\n",
    "    \"\"\" use recursive method to speed up\"\"\"\n",
    "    fx = np.asarray(fx, dtype=complex)\n",
    "    M = fx.shape[0]\n",
    "    minDivideSize = 4\n",
    "\n",
    "    if M % 2 != 0:\n",
    "        raise ValueError(\"the input size must be 2^n\")\n",
    "\n",
    "    if M <= minDivideSize:\n",
    "        return DFT_1D(fx)\n",
    "    else:\n",
    "        fx_even = FFT_1D(fx[::2])  # compute the even part\n",
    "        fx_odd = FFT_1D(fx[1::2])  # compute the odd part\n",
    "        W_ux_2k = np.exp(-2j * np.pi * np.arange(M) / M)\n",
    "\n",
    "        f_u = fx_even + fx_odd * W_ux_2k[:M//2]\n",
    "\n",
    "        f_u_plus_k = fx_even + fx_odd * W_ux_2k[M//2:]\n",
    "\n",
    "        fu = np.concatenate([f_u, f_u_plus_k])\n",
    "\n",
    "    return fu\n",
    "\n",
    "\n",
    "def inverseFFT_1D(fu):\n",
    "    \"\"\" use recursive method to speed up\"\"\"\n",
    "    fu = np.asarray(fu, dtype=complex)\n",
    "    fu_conjugate = np.conjugate(fu)\n",
    "\n",
    "    fx = FFT_1D(fu_conjugate)\n",
    "\n",
    "    fx = np.conjugate(fx)\n",
    "    fx = fx / fu.shape[0]\n",
    "\n",
    "    return fx\n",
    "\n",
    "\n",
    "def FFT_2D(fx):\n",
    "    h, w = fx.shape[0], fx.shape[1]\n",
    "\n",
    "    fu = np.zeros(fx.shape, dtype=complex)\n",
    "\n",
    "    if len(fx.shape) == 2:\n",
    "        for i in range(h):\n",
    "            fu[i, :] = FFT_1D(fx[i, :])\n",
    "\n",
    "        for i in range(w):\n",
    "            fu[:, i] = FFT_1D(fu[:, i])\n",
    "    elif len(fx.shape) == 3:\n",
    "        for ch in range(3):\n",
    "            fu[:, :, ch] = FFT_2D(fx[:, :, ch])\n",
    "\n",
    "    return fu\n",
    "\n",
    "\n",
    "def inverseDFT_2D(fu):\n",
    "    h, w = fu.shape[0], fu.shape[1]\n",
    "\n",
    "    fx = np.zeros(fu.shape, dtype=complex)\n",
    "\n",
    "    if len(fu.shape) == 2:\n",
    "        for i in range(h):\n",
    "            fx[i, :] = inverseDFT_1D(fu[i, :])\n",
    "\n",
    "        for i in range(w):\n",
    "            fx[:, i] = inverseDFT_1D(fx[:, i])\n",
    "\n",
    "    elif len(fu.shape) == 3:\n",
    "        for ch in range(3):\n",
    "            fx[:, :, ch] = inverseDFT_2D(fu[:, :, ch])\n",
    "\n",
    "    fx = np.real(fx)\n",
    "    return fx\n",
    "\n",
    "\n",
    "def inverseFFT_2D(fu):\n",
    "    h, w = fu.shape[0], fu.shape[1]\n",
    "\n",
    "    fx = np.zeros(fu.shape, dtype=complex)\n",
    "\n",
    "    if len(fu.shape) == 2:\n",
    "        for i in range(h):\n",
    "            fx[i, :] = inverseFFT_1D(fu[i, :])\n",
    "\n",
    "        for i in range(w):\n",
    "            fx[:, i] = inverseFFT_1D(fx[:, i])\n",
    "\n",
    "    elif len(fu.shape) == 3:\n",
    "        for ch in range(3):\n",
    "            fx[:, :, ch] = inverseFFT_2D(fu[:, :, ch])\n",
    "\n",
    "    fx = np.real(fx)\n",
    "    return fx"
   ]
  },
  {
   "cell_type": "markdown",
   "metadata": {},
   "source": [
    "## Evaluating"
   ]
  },
  {
   "cell_type": "code",
   "execution_count": 44,
   "metadata": {},
   "outputs": [
    {
     "name": "stdout",
     "output_type": "stream",
     "text": [
      "Testing for 1-d signals\n"
     ]
    }
   ],
   "source": [
    "print ('Testing for 1-d signals')\n",
    "# Generating sin curve in range [-2p, 2pi] with 128 sample points\n",
    "f = np.sin(np.linspace(-2*np.pi,2*np.pi,128))\n",
    "# let us add some noise with mean 0.5 and sigma 0.75\n",
    "f = f + 0.75 * np.random.rand(128) + 0.5"
   ]
  },
  {
   "cell_type": "code",
   "execution_count": 47,
   "metadata": {},
   "outputs": [],
   "source": [
    "F = FFT_1D(f)"
   ]
  },
  {
   "cell_type": "code",
   "execution_count": 48,
   "metadata": {},
   "outputs": [
    {
     "data": {
      "image/png": "[encoded data removed]",
      "text/plain": [
       "<Figure size 432x288 with 3 Axes>"
      ]
     },
     "metadata": {
      "needs_background": "light"
     },
     "output_type": "display_data"
    }
   ],
   "source": [
    "fig = plt.figure()\n",
    "fig.add_subplot(311)\n",
    "plt.plot(f)\n",
    "plt.title('Original Signal')\n",
    "fig.add_subplot(312)\n",
    "plt.plot(np.log(np.abs(F[:64]) + 1))\n",
    "plt.title('magnitude plot')\n",
    "fig.add_subplot(313)\n",
    "plt.plot(np.angle(F[:64]))\n",
    "plt.title('Phase plot')\n",
    "plt.show()"
   ]
  },
  {
   "cell_type": "code",
   "execution_count": null,
   "metadata": {},
   "outputs": [],
   "source": [
    "print ('\\ntesting for 2-d signals/images')\n",
    "x = np.matrix([[1,2,1],[2,1,2],[0,1,1]])\n",
    "X, m, n = fft2(x)\n",
    "print ('\\nDFT is :')\n",
    "print (X)\n",
    "print ('\\nOriginal signal is :')\n",
    "print ifft2(X, m, n)"
   ]
  }
 ],
 "metadata": {
  "kernelspec": {
   "display_name": "Python 3",
   "language": "python",
   "name": "python3"
  },
  "language_info": {
   "codemirror_mode": {
    "name": "ipython",
    "version": 3
   },
   "file_extension": ".py",
   "mimetype": "text/x-python",
   "name": "python",
   "nbconvert_exporter": "python",
   "pygments_lexer": "ipython3",
   "version": "3.6.9"
  }
 },
 "nbformat": 4,
 "nbformat_minor": 4
}
